{
 "cells": [
  {
   "cell_type": "code",
   "execution_count": 4,
   "metadata": {},
   "outputs": [
    {
     "name": "stdout",
     "output_type": "stream",
     "text": [
      "<class 'pandas.core.frame.DataFrame'>\n",
      "RangeIndex: 1468 entries, 0 to 1467\n",
      "Data columns (total 7 columns):\n",
      " #   Column             Non-Null Count  Dtype  \n",
      "---  ------             --------------  -----  \n",
      " 0   EmployeeID         1468 non-null   int64  \n",
      " 1   Department         1468 non-null   object \n",
      " 2   Gender             1468 non-null   object \n",
      " 3   Experience         1468 non-null   int64  \n",
      " 4   TrainingHours      1468 non-null   int64  \n",
      " 5   PerformanceRating  1468 non-null   float64\n",
      " 6   Salary             1468 non-null   int64  \n",
      "dtypes: float64(1), int64(4), object(2)\n",
      "memory usage: 80.4+ KB\n"
     ]
    },
    {
     "data": {
      "text/plain": [
       "(   EmployeeID Department  Gender  Experience  TrainingHours  \\\n",
       " 0        1001         IT    Male           4              5   \n",
       " 1        1002  Marketing  Female           0             50   \n",
       " 2        1003      Sales    Male           0              5   \n",
       " 3        1004         HR    Male           1              5   \n",
       " 4        1005         HR  Female           9              5   \n",
       " \n",
       "    PerformanceRating  Salary  \n",
       " 0               1.00   19000  \n",
       " 1               5.50    6900  \n",
       " 2               1.00    6000  \n",
       " 3               1.00    6000  \n",
       " 4               1.04   38000  ,\n",
       " None,\n",
       "         EmployeeID   Experience  TrainingHours  PerformanceRating  \\\n",
       " count  1468.000000  1468.000000    1468.000000        1468.000000   \n",
       " mean   1734.500000     2.838556      32.144414           3.561512   \n",
       " std     423.919411     2.527657      10.106029           1.044987   \n",
       " min    1001.000000     0.000000       5.000000           1.000000   \n",
       " 25%    1367.750000     1.000000      25.000000           2.840000   \n",
       " 50%    1734.500000     2.000000      31.000000           3.630000   \n",
       " 75%    2101.250000     4.000000      39.000000           4.330000   \n",
       " max    2468.000000     9.000000      50.000000           5.500000   \n",
       " \n",
       "              Salary  \n",
       " count   1468.000000  \n",
       " mean   16107.623297  \n",
       " std    12158.438481  \n",
       " min     6000.000000  \n",
       " 25%     7700.000000  \n",
       " 50%    10100.000000  \n",
       " 75%    20000.000000  \n",
       " max    53100.000000  ,\n",
       " EmployeeID           0\n",
       " Department           0\n",
       " Gender               0\n",
       " Experience           0\n",
       " TrainingHours        0\n",
       " PerformanceRating    0\n",
       " Salary               0\n",
       " dtype: int64,\n",
       " 0)"
      ]
     },
     "execution_count": 4,
     "metadata": {},
     "output_type": "execute_result"
    }
   ],
   "source": [
    "import pandas as pd\n",
    "\n",
    "# Load the dataset\n",
    "data = pd.read_csv('Employee_Performance-1.csv')\n",
    "\n",
    "# Display the first few rows of the dataset and check for missing values, duplicates, and general summary statistics\n",
    "data.head(), data.info(), data.describe(\n",
    "), data.isnull().sum(), data.duplicated().sum()"
   ]
  },
  {
   "cell_type": "code",
   "execution_count": null,
   "metadata": {},
   "outputs": [],
   "source": []
  }
 ],
 "metadata": {
  "kernelspec": {
   "display_name": "base",
   "language": "python",
   "name": "python3"
  },
  "language_info": {
   "codemirror_mode": {
    "name": "ipython",
    "version": 3
   },
   "file_extension": ".py",
   "mimetype": "text/x-python",
   "name": "python",
   "nbconvert_exporter": "python",
   "pygments_lexer": "ipython3",
   "version": "3.12.4"
  }
 },
 "nbformat": 4,
 "nbformat_minor": 2
}
